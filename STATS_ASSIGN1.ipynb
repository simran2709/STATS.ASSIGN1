{
  "nbformat": 4,
  "nbformat_minor": 0,
  "metadata": {
    "colab": {
      "provenance": []
    },
    "kernelspec": {
      "name": "python3",
      "display_name": "Python 3"
    },
    "language_info": {
      "name": "python"
    }
  },
  "cells": [
    {
      "cell_type": "markdown",
      "source": [
        "#ASSIGNMENT\n",
        "\n",
        "##THEORY QUESTIONS\n",
        "\n",
        "Ques1. What is statistics, and why is it important\n",
        "- Statistics is the study of collecting, analyzing, and interpreting data. It is important because it helps make decisions and understand trends in data.\n",
        "\n",
        "Ques2. What are the two main types of statistics  \n",
        "- The two main types are:  \n",
        "- Descriptive Statistics: Summarizes data (e.g., mean, median).  \n",
        "- Inferential Statistics: Makes predictions about a population using sample data.\n",
        "\n",
        "Ques3. What are descriptive statistics  \n",
        "- Descriptive statistics summarize data using measures like mean, median, mode, range, and standard deviation.\n",
        "\n",
        "Ques4. What is inferential statistics  \n",
        "- Inferential statistics use sample data to make predictions or conclusions about a larger population.\n",
        "\n",
        "Ques5. What is sampling in statistics  \n",
        "- Sampling is selecting a subset of individuals or data from a population to study and draw conclusions about the whole group.\n",
        "\n",
        "Ques6. What are the different types of sampling methods  \n",
        "- The main methods are:  \n",
        "   - Random Sampling  \n",
        "   - Stratified Sampling  \n",
        "   - Systematic Sampling  \n",
        "   - Cluster Sampling  \n",
        "   - Convenience Sampling\n",
        "\n",
        "Ques7. What is the difference between random and non-random sampling  \n",
        "- Random Sampling: Everyone has an equal chance of selection.  \n",
        "- Non-random Sampling: Selection is based on criteria, which may introduce bias.\n",
        "\n",
        "Ques8. Define and give examples of qualitative and quantitative data  \n",
        "- Qualitative Data: Descriptive (e.g., color, type).  \n",
        "- Quantitative Data: Numerical (e.g., age, height).\n",
        "\n",
        "Ques9. What are the different types of data in statistics  \n",
        "- The four types are:  \n",
        "  - Nominal  \n",
        "  - Ordinal  \n",
        "  - Interval  \n",
        "  - Ratio\n",
        "\n",
        "Ques10. Explain nominal, ordinal, interval, and ratio levels of measurement  \n",
        "- Nominal: Categories without order (e.g., colors).  \n",
        "- Ordinal: Ordered categories (e.g., ranks).  \n",
        "- Interval: Numbers without true zero (e.g., temperature).  \n",
        "- Ratio: Numbers with a true zero (e.g., weight).\n",
        "\n",
        "Ques11. What is the measure of central tendency  \n",
        "- Measures like mean, median, and mode that indicate the center of a dataset.\n",
        "\n",
        "Ques12. Define mean, median, and mode  \n",
        "- Mean: The average of all numbers.  \n",
        "- Median: The middle value when data is ordered.  \n",
        "- Mode: The most frequent value.\n",
        "\n",
        "Ques13. What is the significance of the measure of central tendency  \n",
        "- It summarizes data by providing a single value that represents the center of a dataset.\n",
        "\n",
        "Ques14. What is variance, and how is it calculated  \n",
        "- Variance measures how far data points are from the mean. It is calculated by averaging the squared differences from the mean.\n",
        "\n",
        "Ques15. What is standard deviation, and why is it important  \n",
        "- Standard deviation shows the spread of data around the mean. It helps in understanding variability in datasets.\n",
        "\n",
        "Ques16. Define and explain the term range in statistics  \n",
        "- Range is the difference between the maximum and minimum values in a dataset.\n",
        "\n",
        "Ques17. What is the difference between variance and standard deviation  \n",
        "- Variance is the average of squared deviations from the mean. Standard deviation is the square root of variance, making it more interpretable.\n",
        "\n",
        "Ques18. What is skewness in a dataset  \n",
        "- Skewness indicates whether a dataset's distribution is asymmetrical. Positive skew has a long right tail, while negative skew has a long left tail.\n",
        "\n",
        "Ques19. What does it mean if a dataset is positively or negatively skewed  \n",
        "- Positively Skewed: Tail is on the right.  \n",
        "- Negatively Skewed: Tail is on the left.\n",
        "\n",
        "Ques20. Define and explain kurtosis  \n",
        "- Kurtosis measures how peaked or flat a distribution is compared to a normal distribution.\n",
        "\n",
        "Ques21. What is the purpose of covariance  \n",
        "- Covariance shows how two variables move together. Positive values mean they move in the same direction, while negative values mean opposite directions.\n",
        "\n",
        "Ques22. What does correlation measure in statistics  \n",
        "- Correlation measures the strength and direction of the linear relationship between two variables, ranging from -1 to 1.\n",
        "\n",
        "Ques23. What is the difference between covariance and correlation  \n",
        "- Covariance: Measures how variables move together.  \n",
        "- Correlation: Standardized measure of the relationship's strength and direction.\n",
        "\n",
        "Ques24. What are some real-world applications of statistics  \n",
        "- Examples include:  \n",
        "    - Market research  \n",
        "    - Healthcare analysis  \n",
        "    - Quality control  \n",
        "    - Financial risk assessment\n"
      ],
      "metadata": {
        "id": "6HL_nXmSlvI3"
      }
    },
    {
      "cell_type": "markdown",
      "source": [
        "##PRACTICAL QUESTIONS"
      ],
      "metadata": {
        "id": "NROVH9_lnZsO"
      }
    },
    {
      "cell_type": "code",
      "source": [
        "#Ques1. How do you calculate the mean, median, and mode of a dataset\n",
        "from statistics import mean, median, mode\n",
        "\n",
        "data = [10, 20, 20, 30, 30, 30, 40]\n",
        "print(\"Mean:\", mean(data))\n",
        "print(\"Median:\", median(data))\n",
        "print(\"Mode:\", mode(data))\n"
      ],
      "metadata": {
        "colab": {
          "base_uri": "https://localhost:8080/"
        },
        "id": "6r-k8-wLnYOe",
        "outputId": "11c0d7da-1096-4caf-f79d-080bbf25973e"
      },
      "execution_count": 23,
      "outputs": [
        {
          "output_type": "stream",
          "name": "stdout",
          "text": [
            "Mean: 25.714285714285715\n",
            "Median: 30\n",
            "Mode: 30\n"
          ]
        }
      ]
    },
    {
      "cell_type": "code",
      "source": [
        "#Ques2. Write a Python program to compute the variance and standard deviation of a dataset\n",
        "import numpy as np\n",
        "\n",
        "data = [10, 20, 30, 40, 50]\n",
        "variance = np.var(data)\n",
        "std_deviation = np.std(data)\n",
        "\n",
        "print(\"Variance:\", variance)\n",
        "print(\"Standard Deviation:\", std_deviation)\n"
      ],
      "metadata": {
        "colab": {
          "base_uri": "https://localhost:8080/"
        },
        "id": "ht67IngCnjLU",
        "outputId": "16b09be8-0a84-4142-8217-ae74ac5aef7e"
      },
      "execution_count": 1,
      "outputs": [
        {
          "output_type": "stream",
          "name": "stdout",
          "text": [
            "Variance: 200.0\n",
            "Standard Deviation: 14.142135623730951\n"
          ]
        }
      ]
    },
    {
      "cell_type": "code",
      "source": [
        "#Ques3. Create a dataset and classify it into nominal, ordinal, interval, and ratio types\n",
        "dataset = {\n",
        "    \"Nominal\": [\"Red\", \"Blue\", \"Green\"],  # Categories without order\n",
        "    \"Ordinal\": [\"Low\", \"Medium\", \"High\"],  # Ordered categories\n",
        "    \"Interval\": [-10, 0, 10, 20],  # Differences are meaningful, no true zero\n",
        "    \"Ratio\": [1, 2, 3, 4]  # True zero exists\n",
        "}\n",
        "\n",
        "print(dataset)\n"
      ],
      "metadata": {
        "colab": {
          "base_uri": "https://localhost:8080/"
        },
        "id": "Pm-JinQnnjC0",
        "outputId": "98eb2eb7-2963-4f28-8bc5-acb43eeede03"
      },
      "execution_count": 24,
      "outputs": [
        {
          "output_type": "stream",
          "name": "stdout",
          "text": [
            "{'Nominal': ['Red', 'Blue', 'Green'], 'Ordinal': ['Low', 'Medium', 'High'], 'Interval': [-10, 0, 10, 20], 'Ratio': [1, 2, 3, 4]}\n"
          ]
        }
      ]
    },
    {
      "cell_type": "code",
      "source": [
        "#Ques4. Implement sampling techniques like random sampling and stratified sampling\n",
        "import random\n",
        "\n",
        "data = [1, 2, 3, 4, 5, 6, 7, 8, 9, 10]\n",
        "# Random Sampling\n",
        "random_sample = random.sample(data, 3)\n",
        "\n",
        "# Stratified Sampling\n",
        "strata = {\"Group1\": [1, 2, 3], \"Group2\": [4, 5, 6], \"Group3\": [7, 8, 9, 10]}\n",
        "stratified_sample = {k: random.sample(v, 1) for k, v in strata.items()}\n",
        "\n",
        "print(\"Random Sample:\", random_sample)\n",
        "print(\"Stratified Sample:\", stratified_sample)\n"
      ],
      "metadata": {
        "colab": {
          "base_uri": "https://localhost:8080/"
        },
        "id": "ZFYpI6LMni6z",
        "outputId": "cacdc375-7eb6-448a-9483-a8612c56c520"
      },
      "execution_count": 2,
      "outputs": [
        {
          "output_type": "stream",
          "name": "stdout",
          "text": [
            "Random Sample: [7, 4, 9]\n",
            "Stratified Sample: {'Group1': [3], 'Group2': [6], 'Group3': [10]}\n"
          ]
        }
      ]
    },
    {
      "cell_type": "code",
      "source": [
        "#Ques5. Write a Python function to calculate the range of a dataset\n",
        "def calculate_range(data):\n",
        "    return max(data) - min(data)\n",
        "\n",
        "data = [10, 20, 30, 40, 50]\n",
        "print(\"Range:\", calculate_range(data))\n"
      ],
      "metadata": {
        "colab": {
          "base_uri": "https://localhost:8080/"
        },
        "id": "vw_VdXV1niy4",
        "outputId": "5dfb9231-f0aa-453c-9448-de211840aaed"
      },
      "execution_count": 3,
      "outputs": [
        {
          "output_type": "stream",
          "name": "stdout",
          "text": [
            "Range: 40\n"
          ]
        }
      ]
    },
    {
      "cell_type": "code",
      "source": [
        "#Ques6. Create a dataset and plot its histogram to visualize skewness\n",
        "import matplotlib.pyplot as plt\n",
        "\n",
        "data = [10, 20, 20, 30, 30, 30, 40, 50]\n",
        "plt.hist(data, bins=5, edgecolor='black')\n",
        "plt.title(\"Histogram\")\n",
        "plt.xlabel(\"Value\")\n",
        "plt.ylabel(\"Frequency\")\n",
        "plt.show()\n"
      ],
      "metadata": {
        "colab": {
          "base_uri": "https://localhost:8080/",
          "height": 472
        },
        "id": "zsJyN74aniqj",
        "outputId": "66119836-8930-4cde-e225-abba9749d5bd"
      },
      "execution_count": 4,
      "outputs": [
        {
          "output_type": "display_data",
          "data": {
            "text/plain": [
              "<Figure size 640x480 with 1 Axes>"
            ],
            "image/png": "[encoded data removed]"
          },
          "metadata": {}
        }
      ]
    },
    {
      "cell_type": "code",
      "source": [
        "#Ques7. Calculate skewness and kurtosis of a dataset using Python libraries\n",
        "from scipy.stats import skew, kurtosis\n",
        "\n",
        "data = [10, 20, 30, 40, 50]\n",
        "print(\"Skewness:\", skew(data))\n",
        "print(\"Kurtosis:\", kurtosis(data))\n"
      ],
      "metadata": {
        "colab": {
          "base_uri": "https://localhost:8080/"
        },
        "id": "q4uW0fKknigW",
        "outputId": "daa656df-cce1-4a4f-cb0b-fda02abb41c8"
      },
      "execution_count": 5,
      "outputs": [
        {
          "output_type": "stream",
          "name": "stdout",
          "text": [
            "Skewness: 0.0\n",
            "Kurtosis: -1.3\n"
          ]
        }
      ]
    },
    {
      "cell_type": "code",
      "source": [
        "#Ques8. Generate a dataset and demonstrate positive and negative skewness\n",
        "import numpy as np\n",
        "# Positive Skew\n",
        "positive_skew_data = np.random.exponential(scale=2, size=1000)\n",
        "\n",
        "# Negative Skew (inverted data)\n",
        "negative_skew_data = -positive_skew_data\n",
        "\n",
        "print(\"Positive Skew Sample:\", positive_skew_data[:5])\n",
        "print(\"Negative Skew Sample:\", negative_skew_data[:5])\n"
      ],
      "metadata": {
        "colab": {
          "base_uri": "https://localhost:8080/"
        },
        "id": "AUQ7cEVdniWz",
        "outputId": "10489459-0d65-4858-aba5-53fa5fa7b87b"
      },
      "execution_count": 6,
      "outputs": [
        {
          "output_type": "stream",
          "name": "stdout",
          "text": [
            "Positive Skew Sample: [2.92403872 1.42400104 4.3573534  2.70519058 0.8791438 ]\n",
            "Negative Skew Sample: [-2.92403872 -1.42400104 -4.3573534  -2.70519058 -0.8791438 ]\n"
          ]
        }
      ]
    },
    {
      "cell_type": "code",
      "source": [
        "#Ques9. Write a Python script to calculate covariance between two datasets\n",
        "import numpy as np\n",
        "\n",
        "data1 = [10, 20, 30, 40, 50]\n",
        "data2 = [5, 10, 15, 20, 25]\n",
        "covariance = np.cov(data1, data2)[0][1]\n",
        "\n",
        "print(\"Covariance:\", covariance)\n"
      ],
      "metadata": {
        "colab": {
          "base_uri": "https://localhost:8080/"
        },
        "id": "pQ1H2-0iniN-",
        "outputId": "a3d18970-3542-4034-a342-2de9318c92cd"
      },
      "execution_count": 7,
      "outputs": [
        {
          "output_type": "stream",
          "name": "stdout",
          "text": [
            "Covariance: 125.0\n"
          ]
        }
      ]
    },
    {
      "cell_type": "code",
      "source": [
        "#Ques10. Write a Python script to calculate the correlation coefficient between two datasets\n",
        "import numpy as np\n",
        "\n",
        "data1 = [10, 20, 30, 40, 50]\n",
        "data2 = [5, 10, 15, 20, 25]\n",
        "correlation = np.corrcoef(data1, data2)[0][1]\n",
        "\n",
        "print(\"Correlation Coefficient:\", correlation)\n"
      ],
      "metadata": {
        "colab": {
          "base_uri": "https://localhost:8080/"
        },
        "id": "-I19YebCniFn",
        "outputId": "980ed703-0f61-4313-b5dd-79d6f204db47"
      },
      "execution_count": 8,
      "outputs": [
        {
          "output_type": "stream",
          "name": "stdout",
          "text": [
            "Correlation Coefficient: 1.0\n"
          ]
        }
      ]
    },
    {
      "cell_type": "code",
      "source": [
        "#Ques11. Create a scatter plot to visualize the relationship between two variables\n",
        "import matplotlib.pyplot as plt\n",
        "\n",
        "x = [10, 20, 30, 40, 50]\n",
        "y = [5, 10, 15, 20, 25]\n",
        "plt.scatter(x, y, color='blue')\n",
        "plt.title(\"Scatter Plot\")\n",
        "plt.xlabel(\"X\")\n",
        "plt.ylabel(\"Y\")\n",
        "plt.show()\n"
      ],
      "metadata": {
        "colab": {
          "base_uri": "https://localhost:8080/",
          "height": 472
        },
        "id": "uB2NXn03nh9R",
        "outputId": "2c8e4ebc-e1d8-41bd-eebc-16ab50144a19"
      },
      "execution_count": 9,
      "outputs": [
        {
          "output_type": "display_data",
          "data": {
            "text/plain": [
              "<Figure size 640x480 with 1 Axes>"
            ],
            "image/png": "[encoded data removed]"
          },
          "metadata": {}
        }
      ]
    },
    {
      "cell_type": "code",
      "source": [
        "#Ques12. Implement and compare simple random sampling and systematic sampling\n",
        "import random\n",
        "\n",
        "data = list(range(1, 101))\n",
        "\n",
        "# Simple Random Sampling\n",
        "random_sample = random.sample(data, 10)\n",
        "\n",
        "# Systematic Sampling\n",
        "k = 10\n",
        "systematic_sample = data[::k]\n",
        "\n",
        "print(\"Random Sample:\", random_sample)\n",
        "print(\"Systematic Sample:\", systematic_sample)\n"
      ],
      "metadata": {
        "colab": {
          "base_uri": "https://localhost:8080/"
        },
        "id": "9qhHXk1pnhzv",
        "outputId": "f7b1317a-1782-4bd5-8a43-e95e069fa236"
      },
      "execution_count": 10,
      "outputs": [
        {
          "output_type": "stream",
          "name": "stdout",
          "text": [
            "Random Sample: [61, 29, 40, 6, 93, 69, 46, 88, 9, 65]\n",
            "Systematic Sample: [1, 11, 21, 31, 41, 51, 61, 71, 81, 91]\n"
          ]
        }
      ]
    },
    {
      "cell_type": "code",
      "source": [
        "#Ques13. Calculate the mean, median, and mode of grouped data\n",
        "from statistics import mean, median, mode\n",
        "\n",
        "grouped_data = [10, 20, 20, 30, 30, 30, 40]\n",
        "print(\"Mean:\", mean(grouped_data))\n",
        "print(\"Median:\", median(grouped_data))\n",
        "print(\"Mode:\", mode(grouped_data))\n"
      ],
      "metadata": {
        "colab": {
          "base_uri": "https://localhost:8080/"
        },
        "id": "ErKR-Ouhnhqe",
        "outputId": "ab4b17eb-9396-4c2d-9293-1872de0d3ca1"
      },
      "execution_count": 11,
      "outputs": [
        {
          "output_type": "stream",
          "name": "stdout",
          "text": [
            "Mean: 25.714285714285715\n",
            "Median: 30\n",
            "Mode: 30\n"
          ]
        }
      ]
    },
    {
      "cell_type": "code",
      "source": [
        "#Ques14. Simulate data using Python and calculate its central tendency and dispersion\n",
        "import numpy as np\n",
        "\n",
        "data = np.random.normal(loc=50, scale=10, size=1000)\n",
        "mean_value = np.mean(data)\n",
        "std_deviation = np.std(data)\n",
        "\n",
        "print(\"Mean:\", mean_value)\n",
        "print(\"Standard Deviation:\", std_deviation)\n"
      ],
      "metadata": {
        "colab": {
          "base_uri": "https://localhost:8080/"
        },
        "id": "IIVfzr87nhh4",
        "outputId": "41afc6be-6ee2-4976-97b3-3ded37dd5a1d"
      },
      "execution_count": 12,
      "outputs": [
        {
          "output_type": "stream",
          "name": "stdout",
          "text": [
            "Mean: 49.58809596421996\n",
            "Standard Deviation: 10.10565377624147\n"
          ]
        }
      ]
    },
    {
      "cell_type": "code",
      "source": [
        "#Ques15. Use NumPy or pandas to summarize a dataset’s descriptive statistics\n",
        "import pandas as pd\n",
        "\n",
        "data = pd.DataFrame({'Values': [10, 20, 30, 40, 50]})\n",
        "summary = data.describe()\n",
        "\n",
        "print(summary)\n"
      ],
      "metadata": {
        "colab": {
          "base_uri": "https://localhost:8080/"
        },
        "id": "TwhuQn-4nhYn",
        "outputId": "c8b2b96e-c15f-4461-e939-367af7109e58"
      },
      "execution_count": 13,
      "outputs": [
        {
          "output_type": "stream",
          "name": "stdout",
          "text": [
            "          Values\n",
            "count   5.000000\n",
            "mean   30.000000\n",
            "std    15.811388\n",
            "min    10.000000\n",
            "25%    20.000000\n",
            "50%    30.000000\n",
            "75%    40.000000\n",
            "max    50.000000\n"
          ]
        }
      ]
    },
    {
      "cell_type": "code",
      "source": [
        "#Ques16. Plot a boxplot to understand the spread and identify outliers\n",
        "import matplotlib.pyplot as plt\n",
        "\n",
        "data = [10, 20, 30, 40, 50, 100]\n",
        "plt.boxplot(data)\n",
        "plt.title(\"Boxplot\")\n",
        "plt.ylabel(\"Values\")\n",
        "plt.show()\n"
      ],
      "metadata": {
        "colab": {
          "base_uri": "https://localhost:8080/",
          "height": 452
        },
        "id": "O24VYgthnhPF",
        "outputId": "79371851-643d-4068-a0a6-04bd9d3137e8"
      },
      "execution_count": 14,
      "outputs": [
        {
          "output_type": "display_data",
          "data": {
            "text/plain": [
              "<Figure size 640x480 with 1 Axes>"
            ],
            "image/png": "[encoded data removed]"
          },
          "metadata": {}
        }
      ]
    },
    {
      "cell_type": "code",
      "source": [
        "#Ques17. Calculate the interquartile range (IQR) of a dataset\n",
        "import numpy as np\n",
        "\n",
        "data = [10, 20, 30, 40, 50, 60]\n",
        "q1 = np.percentile(data, 25)\n",
        "q3 = np.percentile(data, 75)\n",
        "iqr = q3 - q1\n",
        "\n",
        "print(\"IQR:\", iqr)\n"
      ],
      "metadata": {
        "colab": {
          "base_uri": "https://localhost:8080/"
        },
        "id": "1HcJ5G_MnhGe",
        "outputId": "055541bd-121f-4aeb-a166-43bb82261e6d"
      },
      "execution_count": 15,
      "outputs": [
        {
          "output_type": "stream",
          "name": "stdout",
          "text": [
            "IQR: 25.0\n"
          ]
        }
      ]
    },
    {
      "cell_type": "code",
      "source": [
        "#Ques18. Implement Z-score normalization and explain its significance\n",
        "import numpy as np\n",
        "\n",
        "data = [10, 20, 30, 40, 50]\n",
        "z_scores = (data - np.mean(data)) / np.std(data)\n",
        "\n",
        "print(\"Z-scores:\", z_scores)\n"
      ],
      "metadata": {
        "colab": {
          "base_uri": "https://localhost:8080/"
        },
        "id": "t7Zzx5wcng94",
        "outputId": "762acd95-4aed-4d3e-9223-bd0a4319a971"
      },
      "execution_count": 16,
      "outputs": [
        {
          "output_type": "stream",
          "name": "stdout",
          "text": [
            "Z-scores: [-1.41421356 -0.70710678  0.          0.70710678  1.41421356]\n"
          ]
        }
      ]
    },
    {
      "cell_type": "code",
      "source": [
        "#Ques19. Compare two datasets using their standard deviations\n",
        "import numpy as np\n",
        "\n",
        "data1 = [10, 20, 30, 40, 50]\n",
        "data2 = [15, 25, 35, 45, 55]\n",
        "\n",
        "std1 = np.std(data1)\n",
        "std2 = np.std(data2)\n",
        "\n",
        "print(\"Standard Deviation of Dataset 1:\", std1)\n",
        "print(\"Standard Deviation of Dataset 2:\", std2)\n"
      ],
      "metadata": {
        "colab": {
          "base_uri": "https://localhost:8080/"
        },
        "id": "0r4GRr96ng1h",
        "outputId": "b52da33e-38c5-49e0-a6ba-1073a98e0c25"
      },
      "execution_count": 17,
      "outputs": [
        {
          "output_type": "stream",
          "name": "stdout",
          "text": [
            "Standard Deviation of Dataset 1: 14.142135623730951\n",
            "Standard Deviation of Dataset 2: 14.142135623730951\n"
          ]
        }
      ]
    },
    {
      "cell_type": "code",
      "source": [
        "#Ques20. Write a Python program to visualize covariance using a heatmap\n",
        "import seaborn as sns\n",
        "import numpy as np\n",
        "import matplotlib.pyplot as plt\n",
        "\n",
        "data = np.random.rand(10, 2)\n",
        "cov_matrix = np.cov(data, rowvar=False)\n",
        "sns.heatmap(cov_matrix, annot=True, cmap=\"coolwarm\")\n",
        "plt.title(\"Covariance Heatmap\")\n",
        "plt.show()\n"
      ],
      "metadata": {
        "colab": {
          "base_uri": "https://localhost:8080/",
          "height": 452
        },
        "id": "Ay6qu6mrngsB",
        "outputId": "8428ad32-d677-450d-c4c3-4ee9210868b6"
      },
      "execution_count": 18,
      "outputs": [
        {
          "output_type": "display_data",
          "data": {
            "text/plain": [
              "<Figure size 640x480 with 2 Axes>"
            ],
            "image/png": "[encoded data removed]"
          },
          "metadata": {}
        }
      ]
    },
    {
      "cell_type": "code",
      "source": [
        "#Ques21. Use seaborn to create a correlation matrix for a dataset\n",
        "import pandas as pd\n",
        "import seaborn as sns\n",
        "import matplotlib.pyplot as plt\n",
        "\n",
        "data = pd.DataFrame({\n",
        "    'A': [1, 2, 3],\n",
        "    'B': [4, 5, 6],\n",
        "    'C': [7, 8, 9]\n",
        "})\n",
        "correlation = data.corr()\n",
        "sns.heatmap(correlation, annot=True, cmap='coolwarm')\n",
        "plt.title(\"Correlation Matrix\")\n",
        "plt.show()\n"
      ],
      "metadata": {
        "colab": {
          "base_uri": "https://localhost:8080/",
          "height": 452
        },
        "id": "W_zWcDCengi2",
        "outputId": "ad3af36f-6fbf-4359-a352-5d8e2878f3c9"
      },
      "execution_count": 19,
      "outputs": [
        {
          "output_type": "display_data",
          "data": {
            "text/plain": [
              "<Figure size 640x480 with 2 Axes>"
            ],
            "image/png": "[encoded data removed]"
          },
          "metadata": {}
        }
      ]
    },
    {
      "cell_type": "code",
      "source": [
        "#Ques22. Generate a dataset and implement both variance and standard deviation computations\n",
        "import numpy as np\n",
        "\n",
        "data = [10, 20, 30, 40, 50]\n",
        "variance = np.var(data)\n",
        "std_dev = np.std(data)\n",
        "\n",
        "print(\"Variance:\", variance)\n",
        "print(\"Standard Deviation:\", std_dev)\n"
      ],
      "metadata": {
        "colab": {
          "base_uri": "https://localhost:8080/"
        },
        "id": "8YeN3B6BngYw",
        "outputId": "1fa46e5d-ae0a-43bb-e528-d3c63cace8db"
      },
      "execution_count": 20,
      "outputs": [
        {
          "output_type": "stream",
          "name": "stdout",
          "text": [
            "Variance: 200.0\n",
            "Standard Deviation: 14.142135623730951\n"
          ]
        }
      ]
    },
    {
      "cell_type": "code",
      "source": [
        "#Ques23. Visualize skewness and kurtosis using Python libraries like matplotlib or seaborn\n",
        "import seaborn as sns\n",
        "import matplotlib.pyplot as plt\n",
        "\n",
        "data = [10, 20, 30, 40, 50]\n",
        "sns.histplot(data, kde=True)\n",
        "plt.title(\"Histogram with Skewness and Kurtosis\")\n",
        "plt.show()\n"
      ],
      "metadata": {
        "colab": {
          "base_uri": "https://localhost:8080/",
          "height": 452
        },
        "id": "1oAN1dXRngOj",
        "outputId": "4901054d-b7fa-4ff9-83ed-8b460b5f2b20"
      },
      "execution_count": 21,
      "outputs": [
        {
          "output_type": "display_data",
          "data": {
            "text/plain": [
              "<Figure size 640x480 with 1 Axes>"
            ],
            "image/png": "[encoded data removed]"
          },
          "metadata": {}
        }
      ]
    },
    {
      "cell_type": "code",
      "source": [
        "#Ques24. Implement the Pearson and Spearman correlation coefficients for a dataset\n",
        "from scipy.stats import pearsonr, spearmanr\n",
        "\n",
        "x = [10, 20, 30, 40, 50]\n",
        "y = [5, 15, 25, 35, 45]\n",
        "\n",
        "pearson_corr, _ = pearsonr(x, y)\n",
        "spearman_corr, _ = spearmanr(x, y)\n",
        "\n",
        "print(\"Pearson Correlation:\", pearson_corr)\n",
        "print(\"Spearman Correlation:\", spearman_corr)\n"
      ],
      "metadata": {
        "colab": {
          "base_uri": "https://localhost:8080/"
        },
        "id": "6w_AxsrVngC3",
        "outputId": "d43e2633-e346-4bde-ca97-5fbd7c18fdae"
      },
      "execution_count": 22,
      "outputs": [
        {
          "output_type": "stream",
          "name": "stdout",
          "text": [
            "Pearson Correlation: 0.9999999999999998\n",
            "Spearman Correlation: 0.9999999999999999\n"
          ]
        }
      ]
    }
  ]
}